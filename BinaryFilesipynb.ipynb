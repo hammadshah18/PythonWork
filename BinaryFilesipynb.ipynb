{
  "nbformat": 4,
  "nbformat_minor": 0,
  "metadata": {
    "colab": {
      "provenance": [],
      "mount_file_id": "1Ue4nmi7j46SpPdN9tX4jD70iiLgW3BVq",
      "authorship_tag": "ABX9TyOygcl+S0QCAo5cxnCWVi/9",
      "include_colab_link": true
    },
    "kernelspec": {
      "name": "python3",
      "display_name": "Python 3"
    },
    "language_info": {
      "name": "python"
    }
  },
  "cells": [
    {
      "cell_type": "markdown",
      "metadata": {
        "id": "view-in-github",
        "colab_type": "text"
      },
      "source": [
        "<a href=\"https://colab.research.google.com/github/hammadshah18/PythonWork/blob/main/BinaryFilesipynb.ipynb\" target=\"_parent\"><img src=\"https://colab.research.google.com/assets/colab-badge.svg\" alt=\"Open In Colab\"/></a>"
      ]
    },
    {
      "cell_type": "code",
      "execution_count": 8,
      "metadata": {
        "id": "gwSmlnnGuzqe"
      },
      "outputs": [],
      "source": [
        "with open('virat.jpg','rb') as f:\n",
        "  with open('virat1.jpg','wb') as wf:\n",
        "    wf.write(f.read())\n"
      ]
    },
    {
      "cell_type": "markdown",
      "source": [
        "**Working with other data type in Find Handling**"
      ],
      "metadata": {
        "id": "KzYE6R1tw-ae"
      }
    },
    {
      "cell_type": "code",
      "source": [
        "with open('hammad.txt','w') as f:\n",
        "  f.write('2')"
      ],
      "metadata": {
        "id": "I4ondsb6u7mj"
      },
      "execution_count": 10,
      "outputs": []
    },
    {
      "cell_type": "markdown",
      "source": [
        "**Because we only use is String data type , so must need to type casting first**"
      ],
      "metadata": {
        "id": "FSGQLfPAxzEz"
      }
    },
    {
      "cell_type": "code",
      "source": [
        "with open('hammad.txt','r') as f:\n",
        "  print(int(f.read())+5)\n"
      ],
      "metadata": {
        "colab": {
          "base_uri": "https://localhost:8080/"
        },
        "id": "MyW06iMou7vJ",
        "outputId": "98b6fe0a-cc33-4099-9046-200fa89574b2"
      },
      "execution_count": 12,
      "outputs": [
        {
          "output_type": "stream",
          "name": "stdout",
          "text": [
            "7\n"
          ]
        }
      ]
    },
    {
      "cell_type": "code",
      "source": [
        "with open('shah.mp4','rb') as f:\n",
        "  with open('shah1.mp4','wb') as wf:\n",
        "    wf.write(f.read( ))"
      ],
      "metadata": {
        "id": "SbnHoM5aIkwZ"
      },
      "execution_count": 17,
      "outputs": []
    },
    {
      "cell_type": "code",
      "source": [
        "with open('hammad.txt','w') as f:\n",
        "  f.write('9')"
      ],
      "metadata": {
        "id": "ZMxekDROIlCJ"
      },
      "execution_count": 19,
      "outputs": []
    },
    {
      "cell_type": "code",
      "source": [
        "with open('hammad.txt','r') as f:\n",
        "  print(int(f.read())+5)"
      ],
      "metadata": {
        "id": "r_RsDPjkKYII"
      },
      "execution_count": null,
      "outputs": []
    },
    {
      "cell_type": "code",
      "source": [
        "from google.colab import drive\n",
        "drive.mount('/content/drive')"
      ],
      "metadata": {
        "id": "EH8an1Tc0Mdr"
      },
      "execution_count": null,
      "outputs": []
    },
    {
      "cell_type": "code",
      "source": [],
      "metadata": {
        "id": "yawzqglDOga_"
      },
      "execution_count": null,
      "outputs": []
    },
    {
      "cell_type": "code",
      "source": [],
      "metadata": {
        "id": "t5mhllBvOglL"
      },
      "execution_count": null,
      "outputs": []
    },
    {
      "cell_type": "code",
      "source": [],
      "metadata": {
        "id": "wW0e2lvdOgvK"
      },
      "execution_count": null,
      "outputs": []
    },
    {
      "cell_type": "code",
      "source": [],
      "metadata": {
        "id": "abz1HhzYKYQJ"
      },
      "execution_count": null,
      "outputs": []
    }
  ]
}