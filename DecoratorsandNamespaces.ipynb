{
  "nbformat": 4,
  "nbformat_minor": 0,
  "metadata": {
    "colab": {
      "provenance": [],
      "authorship_tag": "ABX9TyOWghRr2mvT/H2fYNBYFS+h",
      "include_colab_link": true
    },
    "kernelspec": {
      "name": "python3",
      "display_name": "Python 3"
    },
    "language_info": {
      "name": "python"
    }
  },
  "cells": [
    {
      "cell_type": "markdown",
      "metadata": {
        "id": "view-in-github",
        "colab_type": "text"
      },
      "source": [
        "<a href=\"https://colab.research.google.com/github/hammadshah18/PythonWork/blob/main/DecoratorsandNamespaces.ipynb\" target=\"_parent\"><img src=\"https://colab.research.google.com/assets/colab-badge.svg\" alt=\"Open In Colab\"/></a>"
      ]
    },
    {
      "cell_type": "markdown",
      "source": [
        "### Local and Global Variable"
      ],
      "metadata": {
        "id": "6viwr_PK-hqi"
      }
    },
    {
      "cell_type": "code",
      "source": [
        "a=2 #global variable\n",
        "\n",
        "def demo():\n",
        "  b=3  # Global Variable\n",
        "  print(b)\n",
        "\n",
        "demo()\n",
        "\n",
        "print(a)"
      ],
      "metadata": {
        "colab": {
          "base_uri": "https://localhost:8080/"
        },
        "id": "TeFGOMGv-eyo",
        "outputId": "39e2452c-2a87-4d00-a8e9-ef893c2fbf03"
      },
      "execution_count": 3,
      "outputs": [
        {
          "output_type": "stream",
          "name": "stdout",
          "text": [
            "3\n",
            "2\n"
          ]
        }
      ]
    },
    {
      "cell_type": "markdown",
      "source": [],
      "metadata": {
        "id": "x2FwhTDT-eJb"
      }
    },
    {
      "cell_type": "markdown",
      "source": [
        "## **it is possible to have two same name,but in different Namespace**"
      ],
      "metadata": {
        "id": "dcOxHrl0C8t2"
      }
    },
    {
      "cell_type": "code",
      "execution_count": 4,
      "metadata": {
        "id": "ujCakEL9y9c7",
        "colab": {
          "base_uri": "https://localhost:8080/"
        },
        "outputId": "4699ed91-0475-4ea2-c847-26b246f8e623"
      },
      "outputs": [
        {
          "output_type": "stream",
          "name": "stdout",
          "text": [
            "3\n",
            "2\n"
          ]
        }
      ],
      "source": [
        "a=2 #global variable\n",
        "\n",
        "def demo():\n",
        "  a=3  # Global Variable\n",
        "  print(a)\n",
        "\n",
        "demo()\n",
        "\n",
        "print(a)"
      ]
    },
    {
      "cell_type": "markdown",
      "source": [
        "# Example of LEGB"
      ],
      "metadata": {
        "id": "s4czV9WwDc9g"
      }
    },
    {
      "cell_type": "code",
      "source": [
        "a=2 #global variable\n",
        "\n",
        "def demo():\n",
        "  # a=3  # Global Variable\n",
        "  print(a)\n",
        "\n",
        "demo()\n",
        "\n",
        "print(a)"
      ],
      "metadata": {
        "colab": {
          "base_uri": "https://localhost:8080/"
        },
        "id": "zHs9i3ZQDLiH",
        "outputId": "0bcc11bd-3924-4571-ef2f-7440b5900c37"
      },
      "execution_count": 5,
      "outputs": [
        {
          "output_type": "stream",
          "name": "stdout",
          "text": [
            "2\n",
            "2\n"
          ]
        }
      ]
    },
    {
      "cell_type": "markdown",
      "source": [
        "## We can change in local global varible using (global) keyword inside local scope"
      ],
      "metadata": {
        "id": "ByRyc57RHXGO"
      }
    },
    {
      "cell_type": "code",
      "source": [
        "a=2\n",
        "def temp():\n",
        "  global a  # with this keyword we can perform operations in global variable\n",
        "  a+=2\n",
        "  print(a)\n",
        "\n",
        "temp()\n",
        "print(a)\n"
      ],
      "metadata": {
        "id": "kHVDzOOyzH_w",
        "colab": {
          "base_uri": "https://localhost:8080/"
        },
        "outputId": "0e80fe43-a0d0-4bfd-dae1-a6596f31dcf6"
      },
      "execution_count": 7,
      "outputs": [
        {
          "output_type": "stream",
          "name": "stdout",
          "text": [
            "4\n",
            "4\n"
          ]
        }
      ]
    },
    {
      "cell_type": "markdown",
      "source": [
        "# This is the Way to check all builtin function in interpreter"
      ],
      "metadata": {
        "id": "CfcJ3QsRIZY-"
      }
    },
    {
      "cell_type": "code",
      "source": [
        "import builtins\n",
        "print(dir(builtins))"
      ],
      "metadata": {
        "id": "dA9suHoOzIE4",
        "colab": {
          "base_uri": "https://localhost:8080/"
        },
        "outputId": "db75b9c0-bfe6-4a89-bc6c-be67788cc127"
      },
      "execution_count": 8,
      "outputs": [
        {
          "output_type": "stream",
          "name": "stdout",
          "text": [
            "['ArithmeticError', 'AssertionError', 'AttributeError', 'BaseException', 'BlockingIOError', 'BrokenPipeError', 'BufferError', 'BytesWarning', 'ChildProcessError', 'ConnectionAbortedError', 'ConnectionError', 'ConnectionRefusedError', 'ConnectionResetError', 'DeprecationWarning', 'EOFError', 'Ellipsis', 'EncodingWarning', 'EnvironmentError', 'Exception', 'False', 'FileExistsError', 'FileNotFoundError', 'FloatingPointError', 'FutureWarning', 'GeneratorExit', 'IOError', 'ImportError', 'ImportWarning', 'IndentationError', 'IndexError', 'InterruptedError', 'IsADirectoryError', 'KeyError', 'KeyboardInterrupt', 'LookupError', 'MemoryError', 'ModuleNotFoundError', 'NameError', 'None', 'NotADirectoryError', 'NotImplemented', 'NotImplementedError', 'OSError', 'OverflowError', 'PendingDeprecationWarning', 'PermissionError', 'ProcessLookupError', 'RecursionError', 'ReferenceError', 'ResourceWarning', 'RuntimeError', 'RuntimeWarning', 'StopAsyncIteration', 'StopIteration', 'SyntaxError', 'SyntaxWarning', 'SystemError', 'SystemExit', 'TabError', 'TimeoutError', 'True', 'TypeError', 'UnboundLocalError', 'UnicodeDecodeError', 'UnicodeEncodeError', 'UnicodeError', 'UnicodeTranslateError', 'UnicodeWarning', 'UserWarning', 'ValueError', 'Warning', 'ZeroDivisionError', '__IPYTHON__', '__build_class__', '__debug__', '__doc__', '__import__', '__loader__', '__name__', '__package__', '__pybind11_internals_v4_gcc_libstdcpp_cxxabi1014__', '__spec__', 'abs', 'aiter', 'all', 'anext', 'any', 'ascii', 'bin', 'bool', 'breakpoint', 'bytearray', 'bytes', 'callable', 'chr', 'classmethod', 'compile', 'complex', 'copyright', 'credits', 'delattr', 'dict', 'dir', 'display', 'divmod', 'enumerate', 'eval', 'exec', 'execfile', 'filter', 'float', 'format', 'frozenset', 'get_ipython', 'getattr', 'globals', 'hasattr', 'hash', 'help', 'hex', 'id', 'input', 'int', 'isinstance', 'issubclass', 'iter', 'len', 'license', 'list', 'locals', 'map', 'max', 'memoryview', 'min', 'next', 'object', 'oct', 'open', 'ord', 'pow', 'print', 'property', 'range', 'repr', 'reversed', 'round', 'runfile', 'set', 'setattr', 'slice', 'sorted', 'staticmethod', 'str', 'sum', 'super', 'tuple', 'type', 'vars', 'zip']\n"
          ]
        }
      ]
    },
    {
      "cell_type": "markdown",
      "source": [
        "# Without creating global variable we can give the value of gloabl varibale"
      ],
      "metadata": {
        "id": "ooWQOdtzLOae"
      }
    },
    {
      "cell_type": "code",
      "source": [
        "def temp():\n",
        "  global a  # with this keyword we can perform operations in global variable\n",
        "  a=2\n",
        "  print(a)\n",
        "\n",
        "temp()\n",
        "print(a)\n"
      ],
      "metadata": {
        "id": "9zojtXYKzIKK",
        "colab": {
          "base_uri": "https://localhost:8080/"
        },
        "outputId": "8a06f906-b4df-49fc-b718-5ec398c5fce5"
      },
      "execution_count": 9,
      "outputs": [
        {
          "output_type": "stream",
          "name": "stdout",
          "text": [
            "2\n",
            "2\n"
          ]
        }
      ]
    },
    {
      "cell_type": "markdown",
      "source": [
        "checking z global or not\n"
      ],
      "metadata": {
        "id": "OITUG4htL5W0"
      }
    },
    {
      "cell_type": "code",
      "source": [
        "def demo(z):\n",
        "  print(z)\n",
        "\n",
        "\n",
        "a=5\n",
        "demo(2)\n",
        "print(a)\n"
      ],
      "metadata": {
        "id": "k3ou75xezINx",
        "colab": {
          "base_uri": "https://localhost:8080/"
        },
        "outputId": "21c2ed0c-e847-4020-ddb0-5950910dd500"
      },
      "execution_count": 10,
      "outputs": [
        {
          "output_type": "stream",
          "name": "stdout",
          "text": [
            "2\n",
            "5\n"
          ]
        }
      ]
    },
    {
      "cell_type": "code",
      "source": [
        "l=[1,2,3,4]\n",
        "max() # global paratmeter\n",
        "def max():   #Local parameter\n",
        "  print(\"hello\")\n",
        "\n",
        "max()"
      ],
      "metadata": {
        "id": "Hz2vbvwszITl",
        "colab": {
          "base_uri": "https://localhost:8080/"
        },
        "outputId": "42b42f23-ca4e-428a-bec7-f913ef8375a6"
      },
      "execution_count": 15,
      "outputs": [
        {
          "output_type": "stream",
          "name": "stdout",
          "text": [
            "hello\n",
            "hello\n"
          ]
        }
      ]
    },
    {
      "cell_type": "markdown",
      "source": [
        "# **Enclosing Example**"
      ],
      "metadata": {
        "id": "ZQ1nkv-OO_et"
      }
    },
    {
      "cell_type": "code",
      "source": [
        "def outer():\n",
        "  a=3  #this is enclosing\n",
        "  def inner():\n",
        "    a=4  # this is local\n",
        "    print(a)\n",
        "  inner()\n",
        "  print('outer wala')\n",
        "\n",
        "a=1 #this is global\n",
        "outer()\n",
        "print('hello world')"
      ],
      "metadata": {
        "id": "oD8sTl39zIX-",
        "colab": {
          "base_uri": "https://localhost:8080/"
        },
        "outputId": "85e06ac1-c5b5-483d-862d-4538fd611611"
      },
      "execution_count": 17,
      "outputs": [
        {
          "output_type": "stream",
          "name": "stdout",
          "text": [
            "4\n",
            "outer wala\n",
            "hello world\n"
          ]
        }
      ]
    },
    {
      "cell_type": "code",
      "source": [
        "def outer():\n",
        "  a=3  #this is enclosing\n",
        "  def inner():\n",
        "\n",
        "    print(a)\n",
        "  inner()\n",
        "  print('outer wala')\n",
        "\n",
        "a=1 #this is global\n",
        "outer()\n",
        "print('hello world')"
      ],
      "metadata": {
        "id": "x5Q5Q7ClzIbV",
        "colab": {
          "base_uri": "https://localhost:8080/"
        },
        "outputId": "8656cd46-518a-40e6-d549-3560bed06fa3"
      },
      "execution_count": 18,
      "outputs": [
        {
          "output_type": "stream",
          "name": "stdout",
          "text": [
            "3\n",
            "outer wala\n",
            "hello world\n"
          ]
        }
      ]
    },
    {
      "cell_type": "code",
      "source": [
        "def outer():\n",
        "\n",
        "  def inner():\n",
        "\n",
        "    print(a)\n",
        "  inner()\n",
        "  print('outer wala')\n",
        "\n",
        "a=1 #this is global\n",
        "outer()\n",
        "print('hello world')"
      ],
      "metadata": {
        "colab": {
          "base_uri": "https://localhost:8080/"
        },
        "id": "DtBH5DlcT6NX",
        "outputId": "b786a95b-4163-4ab4-cf66-ce4aa09df2fc"
      },
      "execution_count": 19,
      "outputs": [
        {
          "output_type": "stream",
          "name": "stdout",
          "text": [
            "1\n",
            "outer wala\n",
            "hello world\n"
          ]
        }
      ]
    },
    {
      "cell_type": "markdown",
      "source": [
        "change in enclosing from local\n"
      ],
      "metadata": {
        "id": "NgcPRGvDW8F-"
      }
    },
    {
      "cell_type": "code",
      "source": [
        "def outer():\n",
        "  a=2\n",
        "  def inner():\n",
        "    nonlocal a\n",
        "    a+=1\n",
        "    print('innner',a)\n",
        "  inner()\n",
        "  print('outer',a)\n",
        "\n",
        "outer()\n",
        "print('main')"
      ],
      "metadata": {
        "colab": {
          "base_uri": "https://localhost:8080/"
        },
        "id": "z9XTWv8JT-At",
        "outputId": "2bce59ba-d6b2-4067-e428-8b4440b4c533"
      },
      "execution_count": 23,
      "outputs": [
        {
          "output_type": "stream",
          "name": "stdout",
          "text": [
            "innner 3\n",
            "outer 3\n",
            "main\n"
          ]
        }
      ]
    },
    {
      "cell_type": "markdown",
      "source": [
        "Decorators in python\n",
        "decorator means using function as a input for another function"
      ],
      "metadata": {
        "id": "ORA6NvFwb8O0"
      }
    },
    {
      "cell_type": "code",
      "source": [
        "#Example\n",
        "def dec(square,num):  # this is function which is decorator\n",
        "  return square(num)\n",
        "\n",
        "def func(num):   # and this is the function that is use as input\n",
        "  return num**num\n",
        "dec(func,2)\n"
      ],
      "metadata": {
        "colab": {
          "base_uri": "https://localhost:8080/"
        },
        "id": "_qcZzfAtT-IJ",
        "outputId": "9f42d247-997f-49e0-b429-5ebd6f0b6b91"
      },
      "execution_count": 26,
      "outputs": [
        {
          "output_type": "execute_result",
          "data": {
            "text/plain": [
              "4"
            ]
          },
          "metadata": {},
          "execution_count": 26
        }
      ]
    },
    {
      "cell_type": "markdown",
      "source": [
        "Closure Property that your inner fucntion can use your outer function variables or anything ,after the complete execution of outer function"
      ],
      "metadata": {
        "id": "HtccXnfB5mPh"
      }
    },
    {
      "cell_type": "code",
      "source": [
        "def shah(func):\n",
        "  def sheikh():\n",
        "    print('*************')\n",
        "    func()\n",
        "    print('************')\n",
        "  return sheikh\n",
        "def demo():\n",
        "  print('hello')\n",
        "a=shah(demo)\n",
        "a()\n"
      ],
      "metadata": {
        "id": "SO4saJ_OT-QW"
      },
      "execution_count": 35,
      "outputs": []
    },
    {
      "cell_type": "markdown",
      "source": [
        "we can use @function_name so we can avoid lengthy method"
      ],
      "metadata": {
        "id": "YxLkO24H6ztz"
      }
    },
    {
      "cell_type": "code",
      "source": [
        "def shah(func):\n",
        "  def sheikh():\n",
        "    print('*************')\n",
        "    func()\n",
        "    print('************')\n",
        "  return sheikh\n",
        "@shah\n",
        "def demo():\n",
        "  print('hello')\n",
        "\n",
        "demo()"
      ],
      "metadata": {
        "colab": {
          "base_uri": "https://localhost:8080/"
        },
        "id": "tTIfvuoyT-So",
        "outputId": "e94dc938-25b5-4952-c9c2-545c0a7af225"
      },
      "execution_count": 37,
      "outputs": [
        {
          "output_type": "stream",
          "name": "stdout",
          "text": [
            "*************\n",
            "hello\n",
            "************\n"
          ]
        }
      ]
    },
    {
      "cell_type": "markdown",
      "source": [
        "this is the method to check excution time of any program"
      ],
      "metadata": {
        "id": "SFNRMHhqCfNC"
      }
    },
    {
      "cell_type": "code",
      "source": [
        "import time\n",
        "def timer(func):\n",
        "  def wrapper(*args):\n",
        "    start= time.time()\n",
        "    func(*args)\n",
        "    print('bhai run time dehk',func.__name__,time.time()-start,'secs')\n",
        "  return wrapper\n",
        "\n",
        "@timer\n",
        "def hello():\n",
        "  print('hello')\n",
        "  time.sleep(2)\n",
        "\n",
        "\n",
        "@timer\n",
        "def display():\n",
        "  print('aja execution kare')\n",
        "  time.sleep(4)\n",
        "\n",
        "hello()\n",
        "display()\n",
        "\n",
        ""
      ],
      "metadata": {
        "colab": {
          "base_uri": "https://localhost:8080/"
        },
        "id": "2rHceEw-8x_E",
        "outputId": "987b2873-518a-4c31-fe94-1abd010d20e7"
      },
      "execution_count": 47,
      "outputs": [
        {
          "output_type": "stream",
          "name": "stdout",
          "text": [
            "hello\n",
            "bhai run time dehk hello 2.0039877891540527 secs\n",
            "aja execution kare\n",
            "bhai run time dehk display 4.00373387336731 secs\n"
          ]
        }
      ]
    },
    {
      "cell_type": "code",
      "source": [],
      "metadata": {
        "id": "GIJcirVBT-VV"
      },
      "execution_count": null,
      "outputs": []
    },
    {
      "cell_type": "code",
      "source": [],
      "metadata": {
        "id": "PAxfSQkOT6Rn"
      },
      "execution_count": null,
      "outputs": []
    }
  ]
}