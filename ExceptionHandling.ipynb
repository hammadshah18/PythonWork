{
  "nbformat": 4,
  "nbformat_minor": 0,
  "metadata": {
    "colab": {
      "provenance": [],
      "authorship_tag": "ABX9TyNQkwG+g9jR6SUwx8qcyn3I",
      "include_colab_link": true
    },
    "kernelspec": {
      "name": "python3",
      "display_name": "Python 3"
    },
    "language_info": {
      "name": "python"
    }
  },
  "cells": [
    {
      "cell_type": "markdown",
      "metadata": {
        "id": "view-in-github",
        "colab_type": "text"
      },
      "source": [
        "<a href=\"https://colab.research.google.com/github/hammadshah18/PythonWork/blob/main/ExceptionHandling.ipynb\" target=\"_parent\"><img src=\"https://colab.research.google.com/assets/colab-badge.svg\" alt=\"Open In Colab\"/></a>"
      ]
    },
    {
      "cell_type": "code",
      "source": [
        "with open('viru.jpg','rb') as f:\n",
        "  with open('viru1.jpg','wb') as wf:\n",
        "    wf.write(f.read())"
      ],
      "metadata": {
        "id": "VozfUczRF_s2"
      },
      "execution_count": 2,
      "outputs": []
    },
    {
      "cell_type": "code",
      "source": [
        "import json\n",
        "data =[1,2,3,4]\n",
        "with open('data.json','w') as f:\n",
        "  json.dump(data,f)"
      ],
      "metadata": {
        "id": "lkFPYu5OF_zd"
      },
      "execution_count": 5,
      "outputs": []
    },
    {
      "cell_type": "code",
      "source": [
        "class test:\n",
        "  def __init__(self,name,cast,age,gender):\n",
        "    self.name=name\n",
        "    self.cast=cast\n",
        "    self.age=age\n",
        "    self.gender=gender\n",
        "t=test('Hammad','shah','19','Male')\n"
      ],
      "metadata": {
        "id": "sgg4i0KjGrp7"
      },
      "execution_count": 13,
      "outputs": []
    },
    {
      "cell_type": "code",
      "source": [
        "import json\n",
        "def dispaly_obj(some):\n",
        "  if isinstance(some,test):\n",
        "    return 'Name : {}  Surname : {} Age : {} Gender : {}'.format(some.name,some.cast,some.age,some.gender)\n",
        "with open('data.json','w') as f:\n",
        "    json.dump(t,f,default=dispaly_obj)\n"
      ],
      "metadata": {
        "id": "sbXFt6yJGrs6"
      },
      "execution_count": 19,
      "outputs": []
    },
    {
      "cell_type": "code",
      "source": [
        "import pickle\n",
        "with open('shah.pkl','wb') as f:\n",
        "  pickle.dump(t,f)"
      ],
      "metadata": {
        "id": "fJ0JM3FZF_26"
      },
      "execution_count": 20,
      "outputs": []
    },
    {
      "cell_type": "markdown",
      "source": [
        "**Here is the Example of Try and Except**"
      ],
      "metadata": {
        "id": "PjnkJTyEjZvZ"
      }
    },
    {
      "cell_type": "code",
      "source": [
        "with open('ali.txt','w') as f:\n",
        "  f.write('hello')"
      ],
      "metadata": {
        "id": "8UZvnkNVYTVt"
      },
      "execution_count": 21,
      "outputs": []
    },
    {
      "cell_type": "code",
      "source": [
        "try:\n",
        "  with open('ali1.txt','r') as f:\n",
        "    print(f.read())\n",
        "except:\n",
        "  print('File Not Found')"
      ],
      "metadata": {
        "colab": {
          "base_uri": "https://localhost:8080/"
        },
        "id": "0pRScmkHYTbu",
        "outputId": "4736a316-0759-4709-c5c5-9c118c1551eb"
      },
      "execution_count": 24,
      "outputs": [
        {
          "output_type": "stream",
          "name": "stdout",
          "text": [
            "File Not Found\n"
          ]
        }
      ]
    },
    {
      "cell_type": "markdown",
      "source": [
        "**We can give the name of error in exceptions by using exception as e:**"
      ],
      "metadata": {
        "id": "baZ-qbnWopI7"
      }
    },
    {
      "cell_type": "code",
      "source": [
        "with open('ali1.txt','w') as f:\n",
        "  f.write('hello')\n"
      ],
      "metadata": {
        "id": "q_6ccO9Xon1v"
      },
      "execution_count": 26,
      "outputs": []
    },
    {
      "cell_type": "code",
      "source": [
        "try:\n",
        "  with open('ali1.txt','r') as f:\n",
        "    print(f.read())\n",
        "  f.read(3)\n",
        "  f.read(9/0)\n",
        "  l=[12,3,2]\n",
        "except FileNotFoundError:\n",
        "  print('File directory not exist')\n",
        "except NameError:\n",
        "  print('Wrong Type')\n",
        "\n",
        "except ZeroDivisionError:\n",
        "  print('cant divide with zero')\n",
        "except Exception as e:\n",
        "  print('Error ariving',e.with_traceback)\n",
        "\n",
        "\n",
        "\n",
        "\n"
      ],
      "metadata": {
        "colab": {
          "base_uri": "https://localhost:8080/"
        },
        "id": "xoXG4-gvon6c",
        "outputId": "44dd46c8-516b-4892-8361-7eaa9fdb00ab"
      },
      "execution_count": 33,
      "outputs": [
        {
          "output_type": "stream",
          "name": "stdout",
          "text": [
            "hello\n",
            "Error ariving <built-in method with_traceback of ValueError object at 0x7a6bec6a5d00>\n"
          ]
        }
      ]
    },
    {
      "cell_type": "markdown",
      "source": [
        "**Try with else block**"
      ],
      "metadata": {
        "id": "TQ4oMxHAr4PB"
      }
    },
    {
      "cell_type": "code",
      "source": [
        "try:\n",
        "  with open('ali1.txt','r') as f:\n",
        "    content=f.read()\n",
        "except FileNotFoundError:\n",
        "  print('file nhi mil rahi')\n",
        "except Exception :\n",
        "  print('pata nhi kyaa')\n",
        "else:\n",
        "  print(content)\n",
        "\n",
        "\n",
        "\n",
        ""
      ],
      "metadata": {
        "colab": {
          "base_uri": "https://localhost:8080/"
        },
        "id": "R2FyEOhvon96",
        "outputId": "803f295c-aea6-4ff4-b971-5bf696350baf"
      },
      "execution_count": 36,
      "outputs": [
        {
          "output_type": "stream",
          "name": "stdout",
          "text": [
            "hello\n"
          ]
        }
      ]
    },
    {
      "cell_type": "markdown",
      "source": [
        "### **Study on finally block**"
      ],
      "metadata": {
        "id": "ZP3t7WeJtwVN"
      }
    },
    {
      "cell_type": "code",
      "source": [
        "try:\n",
        "  with open('ali1.txt','r') as f:\n",
        "    content=f.read()\n",
        "except FileNotFoundError:\n",
        "  print('file nhi mil rahi')\n",
        "except Exception :\n",
        "  print('pata nhi kyaa')\n",
        "else:\n",
        "  print(content)\n",
        "finally:\n",
        "  print('me to print hogaya')\n"
      ],
      "metadata": {
        "colab": {
          "base_uri": "https://localhost:8080/"
        },
        "id": "J5q7714Er3tC",
        "outputId": "f1612772-4689-4f46-f453-b029f9b327f6"
      },
      "execution_count": 37,
      "outputs": [
        {
          "output_type": "stream",
          "name": "stdout",
          "text": [
            "hello\n",
            "me to print hogaya\n"
          ]
        }
      ]
    },
    {
      "cell_type": "code",
      "source": [],
      "metadata": {
        "id": "gReKf9lsooPU"
      },
      "execution_count": null,
      "outputs": []
    },
    {
      "cell_type": "markdown",
      "source": [
        "### **RAISE EXCEPTION**"
      ],
      "metadata": {
        "id": "R3NdQwQxuzu9"
      }
    },
    {
      "cell_type": "code",
      "source": [
        "class bank:\n",
        "  def __init__(self,balance):\n",
        "\n",
        "    self.balance=balance\n",
        "  def withdraw(self,amount):\n",
        "    if amount>self.balance:\n",
        "      raise Exception('Insufficient Balance')\n",
        "    if amount <0 :\n",
        "      raise Exception('too gareeb he')\n",
        "    self.balance-=amount\n",
        "\n",
        "\n",
        "b=bank(1000)\n",
        "try:\n",
        "  b.withdraw(-23)\n",
        "except Exception as e:\n",
        "  print(e)\n",
        "\n",
        "else :\n",
        "  print(b.balance,'Amount succefully withdraw')\n"
      ],
      "metadata": {
        "colab": {
          "base_uri": "https://localhost:8080/"
        },
        "id": "Raiu0M6-uy1u",
        "outputId": "5e3335a7-d823-41f7-df29-a704de72280e"
      },
      "execution_count": 46,
      "outputs": [
        {
          "output_type": "stream",
          "name": "stdout",
          "text": [
            "too gareeb he\n"
          ]
        }
      ]
    },
    {
      "cell_type": "markdown",
      "source": [
        "Custom Exception Handling we can use our self made exception to handling with error"
      ],
      "metadata": {
        "id": "QzjlmcOK0wPj"
      }
    },
    {
      "cell_type": "code",
      "source": [
        "class MyException(Exception):\n",
        "  def __init__(self,message):\n",
        "    print(message)\n",
        "\n",
        "class bank:\n",
        "  def __init__(self,balance):\n",
        "\n",
        "    self.balance=balance\n",
        "  def withdraw(self,amount):\n",
        "    if amount>self.balance:\n",
        "      raise MyException('Insufficient Balance')\n",
        "    if amount <0 :\n",
        "      raise MyException('too gareeb he')\n",
        "    self.balance-=amount\n",
        "\n",
        "\n",
        "b=bank(1000)\n",
        "try:\n",
        "  b.withdraw(-23)\n",
        "except Exception as e:\n",
        "  pass\n",
        "\n",
        "\n",
        "else :\n",
        "  print(b.balance,'Amount succefully withdraw')"
      ],
      "metadata": {
        "colab": {
          "base_uri": "https://localhost:8080/"
        },
        "id": "rkuohFWeuy5R",
        "outputId": "cf5d7b07-801f-4834-b721-1d2af21b4752"
      },
      "execution_count": 47,
      "outputs": [
        {
          "output_type": "stream",
          "name": "stdout",
          "text": [
            "too gareeb he\n"
          ]
        }
      ]
    },
    {
      "cell_type": "code",
      "source": [
        "class MyException(Exception):\n",
        "  def __init__(self,message):\n",
        "    print(message)\n",
        "\n",
        "  def logout(self):\n",
        "    print('logout')\n",
        "\n",
        "class google:\n",
        "  def __init__(self,name,gmail,password,device):\n",
        "    self.name=name\n",
        "    self.gmail=gmail\n",
        "    self.password=password\n",
        "    self.device=device\n",
        "\n",
        "\n",
        "  def login(self,gmail,password,device):\n",
        "    if device!=self.device:\n",
        "      raise MyException ('hack karegaa saale pakraa gaya')\n",
        "    if gmail==self.gmail and password==self.password:\n",
        "      print('Login Succefully')\n",
        "    else:\n",
        "      print('login Error')\n",
        "\n",
        "\n",
        "\n",
        "\n",
        "obj=google('hammad','shah123',123,'windows')\n",
        "try:\n",
        "  obj.login('shah123',123,'window')\n",
        "except Exception as e:\n",
        "   e.logout()\n",
        "\n",
        "else:\n",
        "  print(obj.name)\n",
        "finally:\n",
        "  print('sab kuch sahi chala')\n",
        "\n",
        "\n"
      ],
      "metadata": {
        "colab": {
          "base_uri": "https://localhost:8080/"
        },
        "id": "j1L6xFqLuzAB",
        "outputId": "a24f98c6-fe8f-4232-a293-d931d77783dd"
      },
      "execution_count": 53,
      "outputs": [
        {
          "output_type": "stream",
          "name": "stdout",
          "text": [
            "hack karegaa saale pakraa gaya\n",
            "logout\n",
            "sab kuch sahi chala\n"
          ]
        }
      ]
    },
    {
      "cell_type": "markdown",
      "source": [],
      "metadata": {
        "id": "1oevrb9nAa4Y"
      }
    },
    {
      "cell_type": "code",
      "source": [],
      "metadata": {
        "id": "xQvSsRpmuzDK"
      },
      "execution_count": null,
      "outputs": []
    },
    {
      "cell_type": "code",
      "source": [],
      "metadata": {
        "id": "0sLunAOgYTgl"
      },
      "execution_count": null,
      "outputs": []
    }
  ]
}