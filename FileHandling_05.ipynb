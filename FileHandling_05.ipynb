{
  "nbformat": 4,
  "nbformat_minor": 0,
  "metadata": {
    "colab": {
      "provenance": [],
      "authorship_tag": "ABX9TyPX9C5Pku3L0p4A3X7sP3cU",
      "include_colab_link": true
    },
    "kernelspec": {
      "name": "python3",
      "display_name": "Python 3"
    },
    "language_info": {
      "name": "python"
    }
  },
  "cells": [
    {
      "cell_type": "markdown",
      "metadata": {
        "id": "view-in-github",
        "colab_type": "text"
      },
      "source": [
        "<a href=\"https://colab.research.google.com/github/hammadshah18/PythonWork/blob/main/FileHandling_05.ipynb\" target=\"_parent\"><img src=\"https://colab.research.google.com/assets/colab-badge.svg\" alt=\"Open In Colab\"/></a>"
      ]
    },
    {
      "cell_type": "code",
      "execution_count": null,
      "metadata": {
        "id": "FaBIk2bCe5R8"
      },
      "outputs": [],
      "source": [
        "s=['hammad' for i in range(1000)]\n",
        "with open('bigdata.txt','w') as f:\n",
        "  f.writelines(s)\n",
        "\n",
        "\n"
      ]
    },
    {
      "cell_type": "code",
      "source": [
        "with open('bigdata.txt','r') as f:\n",
        "  chunk=10\n",
        "  while len(f.readlines(chunk))>0:\n",
        "    print(f.readlines(chunk))\n",
        "    f.readlines(chunk)"
      ],
      "metadata": {
        "colab": {
          "base_uri": "https://localhost:8080/"
        },
        "id": "bvg62ggLe-DJ",
        "outputId": "82ffb825-354b-4809-fb33-381c1651a9e3"
      },
      "execution_count": null,
      "outputs": [
        {
          "output_type": "stream",
          "name": "stdout",
          "text": [
            "[]\n"
          ]
        }
      ]
    },
    {
      "cell_type": "code",
      "source": [
        "s=['hello', '\\n I am','\\n Muhammad', '\\n Hammad']\n",
        "with open('file.txt','w') as f:\n",
        "  f.writelines(s)\n"
      ],
      "metadata": {
        "id": "EVwomsIWe-JK"
      },
      "execution_count": null,
      "outputs": []
    },
    {
      "cell_type": "code",
      "source": [
        "with open('file.txt','r') as f:\n",
        "  print(f.read(10))\n",
        " # f.seek(0)  # Reset the file pointer to the beginning before calling tell()\n",
        "  print(f.tell())# where you are currently\n",
        "  f.seek(3)\n",
        "  print(f.read(10))"
      ],
      "metadata": {
        "id": "EFwIYGmDn32Y"
      },
      "execution_count": null,
      "outputs": []
    },
    {
      "cell_type": "code",
      "source": [
        "# best Example of seek output will be xello\n",
        "with open('data.txt','w') as f:\n",
        "  f.write('hello')\n",
        "  f.seek(0)\n",
        "  f.write('x')"
      ],
      "metadata": {
        "id": "wgwUzHGer-Zv"
      },
      "execution_count": null,
      "outputs": []
    },
    {
      "cell_type": "markdown",
      "source": [
        "**Problem with Working in Text Mode**\n",
        "\n",
        "\n",
        "\n",
        "Cant Work with Binary file likes images\n",
        "\n",
        "not good for other data types like int/float/list/tuple\n",
        "\n",
        "\n",
        "\n",
        "\n"
      ],
      "metadata": {
        "id": "3ibA82SntOJ8"
      }
    },
    {
      "cell_type": "code",
      "source": [
        "with open('IMG-20211228-WA0005.jpg','rb') as f:\n",
        "  f.read()"
      ],
      "metadata": {
        "id": "FBIUjC5OtM91"
      },
      "execution_count": null,
      "outputs": []
    }
  ]
}