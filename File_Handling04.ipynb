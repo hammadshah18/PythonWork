{
  "nbformat": 4,
  "nbformat_minor": 0,
  "metadata": {
    "colab": {
      "provenance": [],
      "authorship_tag": "ABX9TyN2QFmvmZno7EqqS/eaKGTh",
      "include_colab_link": true
    },
    "kernelspec": {
      "name": "python3",
      "display_name": "Python 3"
    },
    "language_info": {
      "name": "python"
    }
  },
  "cells": [
    {
      "cell_type": "markdown",
      "metadata": {
        "id": "view-in-github",
        "colab_type": "text"
      },
      "source": [
        "<a href=\"https://colab.research.google.com/github/hammadshah18/PythonWork/blob/main/File_Handling04.ipynb\" target=\"_parent\"><img src=\"https://colab.research.google.com/assets/colab-badge.svg\" alt=\"Open In Colab\"/></a>"
      ]
    },
    {
      "cell_type": "code",
      "execution_count": null,
      "metadata": {
        "colab": {
          "base_uri": "https://localhost:8080/"
        },
        "id": "a--xL3JbVh1w",
        "outputId": "564846cf-967c-485d-bc38-073696a76b8f"
      },
      "outputs": [
        {
          "output_type": "stream",
          "name": "stdout",
          "text": [
            "6\n"
          ]
        }
      ],
      "source": [
        "f=open('file.txt','w')\n",
        "f.write('hammad')\n",
        "f.close()\n",
        "\n"
      ]
    },
    {
      "cell_type": "code",
      "source": [
        "f=open('file1.txt','a')\n",
        "f.write('\\nshah')\n",
        "f.close()"
      ],
      "metadata": {
        "id": "9-C_pmI1XO47"
      },
      "execution_count": null,
      "outputs": []
    },
    {
      "cell_type": "code",
      "source": [
        "# for write multiple Lines\n",
        "l=['\\n hello','\\n i am','\\n Muhammad','\\n hammad']\n",
        "f=open('file.txt','a')\n",
        "f.writelines(l)\n",
        "f.close()"
      ],
      "metadata": {
        "id": "4J3xXy2IXO8H"
      },
      "execution_count": null,
      "outputs": []
    },
    {
      "cell_type": "code",
      "source": [
        "f=open('file.txt','r')\n",
        "s=f.read()\n",
        "print(s)\n",
        "f.close()"
      ],
      "metadata": {
        "colab": {
          "base_uri": "https://localhost:8080/"
        },
        "id": "F1Ie5QYlXO_O",
        "outputId": "e254f91f-f01b-4e30-aeea-abb1c2e53fba"
      },
      "execution_count": null,
      "outputs": [
        {
          "output_type": "stream",
          "name": "stdout",
          "text": [
            "\n",
            " hello\n",
            " i am\n",
            " hammad\n"
          ]
        }
      ]
    },
    {
      "cell_type": "code",
      "source": [
        "#  using of with open ---> it is automatically close th file when its end\n",
        "with open('file.txt','a') as f:\n",
        "  f.write('\\n shah')\n"
      ],
      "metadata": {
        "id": "X9pWWQEDXPCH"
      },
      "execution_count": null,
      "outputs": []
    },
    {
      "cell_type": "code",
      "source": [
        "with open('file.txt','r') as f:\n",
        "   print(f.readline())\n",
        "while True:\n",
        "  s= open('file.txt','r')\n",
        "  if s !='':\n",
        "    break\n",
        "  else:\n",
        "    print(s)\n",
        "\n",
        "\n",
        "\n"
      ],
      "metadata": {
        "colab": {
          "base_uri": "https://localhost:8080/"
        },
        "id": "GEjA4Gc9XPGG",
        "outputId": "116ab4fd-7542-4300-cd14-6c72637bc956"
      },
      "execution_count": null,
      "outputs": [
        {
          "output_type": "stream",
          "name": "stdout",
          "text": [
            "hammadhammad\n",
            "\n"
          ]
        }
      ]
    },
    {
      "cell_type": "code",
      "source": [
        "with open('file.txt','r') as f:\n",
        "  print(f.readlines(10))\n",
        "  print(f.readlines(10))\n",
        "  print(f.readlines(10))"
      ],
      "metadata": {
        "colab": {
          "base_uri": "https://localhost:8080/"
        },
        "id": "SOJ7EUQShpHO",
        "outputId": "f1af3d9c-68e0-4fec-f3fb-aede13ccff10"
      },
      "execution_count": null,
      "outputs": [
        {
          "output_type": "stream",
          "name": "stdout",
          "text": [
            "['hammadhammad\\n']\n",
            "[' hello\\n', ' i am\\n']\n",
            "[' hammad\\n', ' shah']\n"
          ]
        }
      ]
    },
    {
      "cell_type": "code",
      "source": [
        "data=['hello' for i in range(1000) ]\n",
        "with open('bigfile.txt','w') as f:\n",
        "  f.writelines(data)\n"
      ],
      "metadata": {
        "id": "MN9RifTFhpT_"
      },
      "execution_count": null,
      "outputs": []
    },
    {
      "cell_type": "code",
      "source": [
        "with open('bigfile.txt','r') as f:\n",
        "  chunk= 100\n",
        "  while len(f.read(chunk))>0:\n",
        "    print(f.read(chunk),end='***')\n",
        "    f.read(chunk)\n"
      ],
      "metadata": {
        "colab": {
          "base_uri": "https://localhost:8080/",
          "height": 215
        },
        "id": "BPrpMZ7fmK7y",
        "outputId": "b3994daf-6b86-4a42-b10c-c61780d7b1d8"
      },
      "execution_count": null,
      "outputs": [
        {
          "output_type": "error",
          "ename": "FileNotFoundError",
          "evalue": "[Errno 2] No such file or directory: 'bigfile.txt'",
          "traceback": [
            "\u001b[0;31m---------------------------------------------------------------------------\u001b[0m",
            "\u001b[0;31mFileNotFoundError\u001b[0m                         Traceback (most recent call last)",
            "\u001b[0;32m<ipython-input-3-2e2374e5480a>\u001b[0m in \u001b[0;36m<cell line: 1>\u001b[0;34m()\u001b[0m\n\u001b[0;32m----> 1\u001b[0;31m \u001b[0;32mwith\u001b[0m \u001b[0mopen\u001b[0m\u001b[0;34m(\u001b[0m\u001b[0;34m'bigfile.txt'\u001b[0m\u001b[0;34m,\u001b[0m\u001b[0;34m'r'\u001b[0m\u001b[0;34m)\u001b[0m \u001b[0;32mas\u001b[0m \u001b[0mf\u001b[0m\u001b[0;34m:\u001b[0m\u001b[0;34m\u001b[0m\u001b[0;34m\u001b[0m\u001b[0m\n\u001b[0m\u001b[1;32m      2\u001b[0m   \u001b[0mchunk\u001b[0m\u001b[0;34m=\u001b[0m \u001b[0;36m100\u001b[0m\u001b[0;34m\u001b[0m\u001b[0;34m\u001b[0m\u001b[0m\n\u001b[1;32m      3\u001b[0m   \u001b[0;32mwhile\u001b[0m \u001b[0mlen\u001b[0m\u001b[0;34m(\u001b[0m\u001b[0mf\u001b[0m\u001b[0;34m.\u001b[0m\u001b[0mread\u001b[0m\u001b[0;34m(\u001b[0m\u001b[0mchunk\u001b[0m\u001b[0;34m)\u001b[0m\u001b[0;34m)\u001b[0m\u001b[0;34m>\u001b[0m\u001b[0;36m0\u001b[0m\u001b[0;34m:\u001b[0m\u001b[0;34m\u001b[0m\u001b[0;34m\u001b[0m\u001b[0m\n\u001b[1;32m      4\u001b[0m     \u001b[0mprint\u001b[0m\u001b[0;34m(\u001b[0m\u001b[0mf\u001b[0m\u001b[0;34m.\u001b[0m\u001b[0mread\u001b[0m\u001b[0;34m(\u001b[0m\u001b[0mchunk\u001b[0m\u001b[0;34m)\u001b[0m\u001b[0;34m,\u001b[0m\u001b[0mend\u001b[0m\u001b[0;34m=\u001b[0m\u001b[0;34m'***'\u001b[0m\u001b[0;34m)\u001b[0m\u001b[0;34m\u001b[0m\u001b[0;34m\u001b[0m\u001b[0m\n\u001b[1;32m      5\u001b[0m     \u001b[0mf\u001b[0m\u001b[0;34m.\u001b[0m\u001b[0mread\u001b[0m\u001b[0;34m(\u001b[0m\u001b[0mchunk\u001b[0m\u001b[0;34m)\u001b[0m\u001b[0;34m\u001b[0m\u001b[0;34m\u001b[0m\u001b[0m\n",
            "\u001b[0;31mFileNotFoundError\u001b[0m: [Errno 2] No such file or directory: 'bigfile.txt'"
          ]
        }
      ]
    }
  ]
}