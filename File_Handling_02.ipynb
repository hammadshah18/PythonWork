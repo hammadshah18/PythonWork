{
  "nbformat": 4,
  "nbformat_minor": 0,
  "metadata": {
    "colab": {
      "provenance": [],
      "authorship_tag": "ABX9TyOs4wvZZd4Wvt0guvQcj+y0",
      "include_colab_link": true
    },
    "kernelspec": {
      "name": "python3",
      "display_name": "Python 3"
    },
    "language_info": {
      "name": "python"
    }
  },
  "cells": [
    {
      "cell_type": "markdown",
      "metadata": {
        "id": "view-in-github",
        "colab_type": "text"
      },
      "source": [
        "<a href=\"https://colab.research.google.com/github/hammadshah18/PythonWork/blob/main/File_Handling_02.ipynb\" target=\"_parent\"><img src=\"https://colab.research.google.com/assets/colab-badge.svg\" alt=\"Open In Colab\"/></a>"
      ]
    },
    {
      "cell_type": "code",
      "execution_count": 22,
      "metadata": {
        "id": "Wp06B0ydJlzF"
      },
      "outputs": [],
      "source": [
        "f=open('hammad.txt','w')\n",
        "f.write('I am Muhammad Hammad')\n",
        "f.close()"
      ]
    },
    {
      "cell_type": "code",
      "source": [
        "f=open('hammad.txt','r')\n",
        "f.read()\n"
      ],
      "metadata": {
        "colab": {
          "base_uri": "https://localhost:8080/",
          "height": 35
        },
        "id": "KkLQFl9pJ1zQ",
        "outputId": "b2c4cee0-4941-432a-c5e6-99d8b1fdd2cd"
      },
      "execution_count": 23,
      "outputs": [
        {
          "output_type": "execute_result",
          "data": {
            "text/plain": [
              "'I am Muhammad Hammad'"
            ],
            "application/vnd.google.colaboratory.intrinsic+json": {
              "type": "string"
            }
          },
          "metadata": {},
          "execution_count": 23
        }
      ]
    },
    {
      "cell_type": "code",
      "source": [
        "f=open('hammad.txt','a')\n",
        "f.write('\\nI am an Engineer')\n",
        "f.close()\n"
      ],
      "metadata": {
        "id": "kCJMH6N1J12_"
      },
      "execution_count": 20,
      "outputs": []
    },
    {
      "cell_type": "code",
      "source": [
        "f=open('hammadshah.txt')\n",
        "f.read()"
      ],
      "metadata": {
        "colab": {
          "base_uri": "https://localhost:8080/",
          "height": 35
        },
        "id": "zIGostxWJ16q",
        "outputId": "697c4ade-1687-4e7a-aac4-903adc4da839"
      },
      "execution_count": 29,
      "outputs": [
        {
          "output_type": "execute_result",
          "data": {
            "text/plain": [
              "'Here I am trying to learn File Handling \\n I am Muhammad Hammad a passionate Software Engineer'"
            ],
            "application/vnd.google.colaboratory.intrinsic+json": {
              "type": "string"
            }
          },
          "metadata": {},
          "execution_count": 29
        }
      ]
    },
    {
      "cell_type": "code",
      "source": [
        "f=open('hammadshah.txt','w')\n",
        "f.write('Here I am trying to learn File Handling ')\n",
        "f.close()"
      ],
      "metadata": {
        "id": "IkSBizivN1gP"
      },
      "execution_count": 24,
      "outputs": []
    },
    {
      "cell_type": "code",
      "source": [
        "f=open('hammadshah.txt','r')\n",
        "f.read()"
      ],
      "metadata": {
        "colab": {
          "base_uri": "https://localhost:8080/",
          "height": 35
        },
        "id": "DoD2TWVzN1jL",
        "outputId": "c45aa023-0018-4655-9631-ac92e916c40c"
      },
      "execution_count": 25,
      "outputs": [
        {
          "output_type": "execute_result",
          "data": {
            "text/plain": [
              "'Here I am trying to learn File Handling '"
            ],
            "application/vnd.google.colaboratory.intrinsic+json": {
              "type": "string"
            }
          },
          "metadata": {},
          "execution_count": 25
        }
      ]
    },
    {
      "cell_type": "code",
      "source": [
        "f=open('hammadshah','w')\n",
        "f.write('hello')\n",
        "f.close()"
      ],
      "metadata": {
        "id": "oXSU_cORN1oH"
      },
      "execution_count": 26,
      "outputs": []
    },
    {
      "cell_type": "code",
      "source": [
        "f=open('hammadshah.txt','a')\n",
        "f.write('\\n I am Muhammad Hammad a passionate Software Engineer')\n",
        "f.close()"
      ],
      "metadata": {
        "id": "BfQBhFAHPB1v"
      },
      "execution_count": 27,
      "outputs": []
    },
    {
      "cell_type": "code",
      "source": [
        "f=open('hammadshah.txt')\n",
        "f.read()"
      ],
      "metadata": {
        "colab": {
          "base_uri": "https://localhost:8080/",
          "height": 35
        },
        "id": "ectMcCFFPCBl",
        "outputId": "5275ce6e-b440-40af-ebd6-6a3fd8c00b19"
      },
      "execution_count": 28,
      "outputs": [
        {
          "output_type": "execute_result",
          "data": {
            "text/plain": [
              "'Here I am trying to learn File Handling \\n I am Muhammad Hammad a passionate Software Engineer'"
            ],
            "application/vnd.google.colaboratory.intrinsic+json": {
              "type": "string"
            }
          },
          "metadata": {},
          "execution_count": 28
        }
      ]
    }
  ]
}