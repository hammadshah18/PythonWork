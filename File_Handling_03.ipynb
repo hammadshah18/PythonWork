{
  "nbformat": 4,
  "nbformat_minor": 0,
  "metadata": {
    "colab": {
      "provenance": [],
      "authorship_tag": "ABX9TyNsi30qxy6+TjWJaD7nLAJq",
      "include_colab_link": true
    },
    "kernelspec": {
      "name": "python3",
      "display_name": "Python 3"
    },
    "language_info": {
      "name": "python"
    }
  },
  "cells": [
    {
      "cell_type": "markdown",
      "metadata": {
        "id": "view-in-github",
        "colab_type": "text"
      },
      "source": [
        "<a href=\"https://colab.research.google.com/github/hammadshah18/PythonWork/blob/main/File_Handling_03.ipynb\" target=\"_parent\"><img src=\"https://colab.research.google.com/assets/colab-badge.svg\" alt=\"Open In Colab\"/></a>"
      ]
    },
    {
      "cell_type": "code",
      "execution_count": 13,
      "metadata": {
        "id": "pe3t5PuuRBMl"
      },
      "outputs": [],
      "source": [
        "f=open('handle_03.txt','w')\n",
        "f.write('The error occurs because you opened the file in **read mode ('r')**, which does not allow writing to the file. To write to the file, you need to open it in **write ** mode. ')\n",
        "f.close()"
      ]
    },
    {
      "cell_type": "code",
      "source": [
        "f=open('handle_03.txt')\n",
        "f.read(5)\n",
        "f.read(5)\n",
        "f.tell() # it will tell your position\n",
        "f.seek(0) # wapas position 0 pr hogaye"
      ],
      "metadata": {
        "colab": {
          "base_uri": "https://localhost:8080/"
        },
        "id": "VczGmmfdRaLC",
        "outputId": "bcd1f689-243f-486e-c9f1-34118123edc4"
      },
      "execution_count": 14,
      "outputs": [
        {
          "output_type": "execute_result",
          "data": {
            "text/plain": [
              "0"
            ]
          },
          "metadata": {},
          "execution_count": 14
        }
      ]
    },
    {
      "cell_type": "code",
      "source": [
        "f=open('handle_03.txt')\n",
        "print(f.read())"
      ],
      "metadata": {
        "colab": {
          "base_uri": "https://localhost:8080/"
        },
        "id": "sqTz3u2DRaPs",
        "outputId": "1072b821-2423-442c-a81f-f32ae8e531ff"
      },
      "execution_count": 15,
      "outputs": [
        {
          "output_type": "stream",
          "name": "stdout",
          "text": [
            "The error occurs because you opened the file in **read mode ()**, which does not allow writing to the file. To write to the file, you need to open it in **write ** mode. \n"
          ]
        }
      ]
    },
    {
      "cell_type": "code",
      "source": [
        "f.open('handle_03.txt')\n",
        "f.seek(0)\n",
        "for line in f:\n",
        "    print(f)"
      ],
      "metadata": {
        "id": "RP7D7xH0RaTh"
      },
      "execution_count": null,
      "outputs": []
    }
  ]
}