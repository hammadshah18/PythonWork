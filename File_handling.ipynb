{
  "nbformat": 4,
  "nbformat_minor": 0,
  "metadata": {
    "colab": {
      "provenance": [],
      "mount_file_id": "1odCL6sIrIDFR7t8DI51B2t_L-fYjF7bu",
      "authorship_tag": "ABX9TyMuJpgEHX6X2PldHhsJtwso",
      "include_colab_link": true
    },
    "kernelspec": {
      "name": "python3",
      "display_name": "Python 3"
    },
    "language_info": {
      "name": "python"
    }
  },
  "cells": [
    {
      "cell_type": "markdown",
      "metadata": {
        "id": "view-in-github",
        "colab_type": "text"
      },
      "source": [
        "<a href=\"https://colab.research.google.com/github/hammadshah18/PythonWork/blob/main/File_handling.ipynb\" target=\"_parent\"><img src=\"https://colab.research.google.com/assets/colab-badge.svg\" alt=\"Open In Colab\"/></a>"
      ]
    },
    {
      "cell_type": "code",
      "source": [
        "f=open('sample .txt','w')\n",
        "f.write('hello world')\n",
        "f.close()\n",
        "#since file is closed it will not work anymore\n",
        "f.write('hello')"
      ],
      "metadata": {
        "colab": {
          "base_uri": "https://localhost:8080/",
          "height": 179
        },
        "id": "8AYAtBtCE3DW",
        "outputId": "437eaf1a-58fa-4f97-a0c0-91dc3e92adac"
      },
      "execution_count": null,
      "outputs": [
        {
          "output_type": "error",
          "ename": "ValueError",
          "evalue": "I/O operation on closed file.",
          "traceback": [
            "\u001b[0;31m---------------------------------------------------------------------------\u001b[0m",
            "\u001b[0;31mValueError\u001b[0m                                Traceback (most recent call last)",
            "\u001b[0;32m<ipython-input-3-96b64e33daa4>\u001b[0m in \u001b[0;36m<cell line: 5>\u001b[0;34m()\u001b[0m\n\u001b[1;32m      3\u001b[0m \u001b[0mf\u001b[0m\u001b[0;34m.\u001b[0m\u001b[0mclose\u001b[0m\u001b[0;34m(\u001b[0m\u001b[0;34m)\u001b[0m\u001b[0;34m\u001b[0m\u001b[0;34m\u001b[0m\u001b[0m\n\u001b[1;32m      4\u001b[0m \u001b[0;31m#since file is closed it will not work anymore\u001b[0m\u001b[0;34m\u001b[0m\u001b[0;34m\u001b[0m\u001b[0m\n\u001b[0;32m----> 5\u001b[0;31m \u001b[0mf\u001b[0m\u001b[0;34m.\u001b[0m\u001b[0mwrite\u001b[0m\u001b[0;34m(\u001b[0m\u001b[0;34m'hello'\u001b[0m\u001b[0;34m)\u001b[0m\u001b[0;34m\u001b[0m\u001b[0;34m\u001b[0m\u001b[0m\n\u001b[0m",
            "\u001b[0;31mValueError\u001b[0m: I/O operation on closed file."
          ]
        }
      ]
    },
    {
      "cell_type": "code",
      "source": [
        "# WRITE Multiple strings\n",
        "f=open('sample1 .txt','w')\n",
        "f.write('hello world')\n",
        "f.write('\\n how are you')\n",
        "f.close()\n"
      ],
      "metadata": {
        "id": "Q-HOatfZE3GQ"
      },
      "execution_count": null,
      "outputs": []
    },
    {
      "cell_type": "code",
      "source": [
        "# if file is already present\n",
        "f=open('sample .txt','w')\n",
        "f.write('salman khan')\n",
        "f.close()"
      ],
      "metadata": {
        "id": "4-fignbaE3Jd"
      },
      "execution_count": null,
      "outputs": []
    },
    {
      "cell_type": "code",
      "source": [
        "# introducing Append Mode With the help of a it will save old work and also add new work\n",
        "f=open('sample1 .txt','a')\n",
        "f.write('\\nhello world')\n",
        "f.write('\\n how are you')\n",
        "f.close()\n"
      ],
      "metadata": {
        "id": "zxp3yc1RamTy"
      },
      "execution_count": null,
      "outputs": []
    },
    {
      "cell_type": "code",
      "source": [
        "# write Lines\n",
        "l=['hello\\n','hi\\n','how are you\\n','iam fine']\n",
        "f =open('/content/sample .txt','w')\n",
        "f.writelines(l)\n",
        "f.close()"
      ],
      "metadata": {
        "id": "lbuoTxvTE3MV"
      },
      "execution_count": null,
      "outputs": []
    },
    {
      "cell_type": "code",
      "source": [
        "# write Lines\n",
        "l=['hello\\n','hi\\n','how are you\\n','iam fine']\n",
        "f =open('/content/hammad .txt','w')\n",
        "f.writelines(l)\n",
        "f.close()"
      ],
      "metadata": {
        "id": "olNnl-7Bdeph"
      },
      "execution_count": null,
      "outputs": []
    },
    {
      "cell_type": "code",
      "source": [
        "#Reading From File\n",
        "# using read\n",
        "f=open('/content/sample .txt','r')\n",
        "print(f.read())\n",
        "f.close()"
      ],
      "metadata": {
        "id": "XW0uhXsVE3Pk",
        "colab": {
          "base_uri": "https://localhost:8080/"
        },
        "outputId": "978cd83f-4a75-4567-f4e8-d5e9cf31c5d2"
      },
      "execution_count": 21,
      "outputs": [
        {
          "output_type": "stream",
          "name": "stdout",
          "text": [
            "hello\n",
            "hi\n",
            "how are you\n",
            "iam fine\n"
          ]
        }
      ]
    },
    {
      "cell_type": "code",
      "source": [
        "#reading upto n char\n",
        "f=open('/content/sample .txt','r')\n",
        "print(f.read(10))\n",
        "f.close()\n"
      ],
      "metadata": {
        "id": "cHZU8CFAde34",
        "colab": {
          "base_uri": "https://localhost:8080/"
        },
        "outputId": "20fef1cc-a3df-4b37-a1ed-36ae2477e8d0"
      },
      "execution_count": 22,
      "outputs": [
        {
          "output_type": "stream",
          "name": "stdout",
          "text": [
            "hello\n",
            "hi\n",
            "h\n"
          ]
        }
      ]
    },
    {
      "cell_type": "code",
      "source": [
        "# readline to read line by line\n",
        "f=open('/content/sample .txt','r')\n",
        "print(f.readline(),end='')\n",
        "print(f.readline(),end='')\n",
        "f.close()"
      ],
      "metadata": {
        "colab": {
          "base_uri": "https://localhost:8080/"
        },
        "id": "Pbb95gqXe9I_",
        "outputId": "6722165a-5cc8-4c27-c9eb-632423bfbbfc"
      },
      "execution_count": 29,
      "outputs": [
        {
          "output_type": "stream",
          "name": "stdout",
          "text": [
            "hello\n",
            "hi\n"
          ]
        }
      ]
    },
    {
      "cell_type": "code",
      "source": [
        "#reading entire using readline\n",
        "f=open('/content/sample .txt','r')\n",
        "while True:\n",
        "  data=f.readline()\n",
        "  if data == '':\n",
        "    break\n",
        "  else:\n",
        "    print(data,end='')\n",
        "f.close()"
      ],
      "metadata": {
        "colab": {
          "base_uri": "https://localhost:8080/"
        },
        "id": "r1X3xjVne9mP",
        "outputId": "8e903e04-88d4-4827-8728-642eb425530e"
      },
      "execution_count": 33,
      "outputs": [
        {
          "output_type": "stream",
          "name": "stdout",
          "text": [
            "hello\n",
            "hi\n",
            "how are you\n",
            "iam fine"
          ]
        }
      ]
    },
    {
      "cell_type": "code",
      "source": [],
      "metadata": {
        "id": "SscMLkw_e9o3"
      },
      "execution_count": null,
      "outputs": []
    },
    {
      "cell_type": "code",
      "source": [],
      "metadata": {
        "id": "KCksT59xe9sS"
      },
      "execution_count": null,
      "outputs": []
    }
  ]
}