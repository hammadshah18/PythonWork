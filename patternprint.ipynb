{
  "nbformat": 4,
  "nbformat_minor": 0,
  "metadata": {
    "colab": {
      "provenance": [],
      "authorship_tag": "ABX9TyNL3hsSNJkcCOrJxyNctM6L",
      "include_colab_link": true
    },
    "kernelspec": {
      "name": "python3",
      "display_name": "Python 3"
    },
    "language_info": {
      "name": "python"
    }
  },
  "cells": [
    {
      "cell_type": "markdown",
      "metadata": {
        "id": "view-in-github",
        "colab_type": "text"
      },
      "source": [
        "<a href=\"https://colab.research.google.com/github/hammadshah18/PythonWork/blob/main/patternprint.ipynb\" target=\"_parent\"><img src=\"https://colab.research.google.com/assets/colab-badge.svg\" alt=\"Open In Colab\"/></a>"
      ]
    },
    {
      "cell_type": "code",
      "source": [
        "n=int(input('Enter the number'))\n",
        "for i in range(1,n+1,1):\n",
        "  for j in range(1,n+1,1):\n",
        "    print('*',end=' ')\n",
        "  print()\n",
        "\n",
        "\n",
        ""
      ],
      "metadata": {
        "colab": {
          "base_uri": "https://localhost:8080/"
        },
        "id": "UbtGg6ouS0bX",
        "outputId": "6d459db5-8252-49c7-d19a-9db7394290d5"
      },
      "execution_count": 8,
      "outputs": [
        {
          "output_type": "stream",
          "name": "stdout",
          "text": [
            "Enter the number5\n",
            "* * * * * \n",
            "* * * * * \n",
            "* * * * * \n",
            "* * * * * \n",
            "* * * * * \n"
          ]
        }
      ]
    },
    {
      "cell_type": "code",
      "source": [
        "n=int(input('Enter the number'))\n",
        "for i in range(1,n+1,1):\n",
        "  for j in range(1,i+1,1):\n",
        "    print('*',end=' ')\n",
        "  print()\n"
      ],
      "metadata": {
        "colab": {
          "base_uri": "https://localhost:8080/"
        },
        "id": "QuNa4nbAdB8C",
        "outputId": "385e3694-c6cd-41a7-d57a-f9a42bb0424d"
      },
      "execution_count": 15,
      "outputs": [
        {
          "output_type": "stream",
          "name": "stdout",
          "text": [
            "Enter the number5\n",
            "* \n",
            "* * \n",
            "* * * \n",
            "* * * * \n",
            "* * * * * \n"
          ]
        }
      ]
    },
    {
      "cell_type": "code",
      "source": [
        "n=int(input('Enter the number'))\n",
        "k=1\n",
        "for i in range(1,n+1,1):\n",
        "  for j in range(1,k+1,1):\n",
        "    print('*',end=' ')\n",
        "  k=k+2\n",
        "  print()"
      ],
      "metadata": {
        "colab": {
          "base_uri": "https://localhost:8080/"
        },
        "id": "YdRUwEQaS-HP",
        "outputId": "ea1c6711-3c46-4c1b-b0ab-6e1c687f3272"
      },
      "execution_count": 18,
      "outputs": [
        {
          "output_type": "stream",
          "name": "stdout",
          "text": [
            "Enter the number3\n",
            "* \n",
            "* * * \n",
            "* * * * * \n"
          ]
        }
      ]
    },
    {
      "cell_type": "code",
      "source": [
        "n=int(input('Enter the number'))\n",
        "for i in range(1,n+1,1):\n",
        "  for j in range(1,n+1,1):\n",
        "    if i==3 or j==3:\n",
        "      print('*',end=' ')\n",
        "    else:\n",
        "      print(' ',end=' ')\n",
        "  print()\n"
      ],
      "metadata": {
        "colab": {
          "base_uri": "https://localhost:8080/"
        },
        "id": "j73pXqmBpRY-",
        "outputId": "cfd48417-a902-4037-f06d-297864239563"
      },
      "execution_count": 26,
      "outputs": [
        {
          "output_type": "stream",
          "name": "stdout",
          "text": [
            "Enter the number5\n",
            "    *     \n",
            "    *     \n",
            "* * * * * \n",
            "    *     \n",
            "    *     \n"
          ]
        }
      ]
    },
    {
      "cell_type": "code",
      "source": [
        "n=int(input('Enter the number'))\n",
        "for i in range(1,n+1,1):\n",
        "  for j in range(1,n+1,1):\n",
        "    if i==3 or j==3:\n",
        "      print('*',end=' ')\n",
        "    else:\n",
        "      print('0',end=' ')\n",
        "  print()\n"
      ],
      "metadata": {
        "colab": {
          "base_uri": "https://localhost:8080/"
        },
        "id": "souKYb_mpRbn",
        "outputId": "f65690a2-4830-492d-f6aa-76ac6a010401"
      },
      "execution_count": 28,
      "outputs": [
        {
          "output_type": "stream",
          "name": "stdout",
          "text": [
            "Enter the number5\n",
            "0 0 * 0 0 \n",
            "0 0 * 0 0 \n",
            "* * * * * \n",
            "0 0 * 0 0 \n",
            "0 0 * 0 0 \n"
          ]
        }
      ]
    },
    {
      "cell_type": "code",
      "source": [
        "n=int(input('Enter the number'))\n",
        "for i in range(1,n+1,1):\n",
        "  for j in range(1,n+1,1):\n",
        "    if i==3 or j==3:\n",
        "      print('x',end=' ')\n",
        "    else:\n",
        "      print('0',end=' ')\n",
        "  print()\n"
      ],
      "metadata": {
        "colab": {
          "base_uri": "https://localhost:8080/"
        },
        "id": "WxJ_uOJUpRew",
        "outputId": "0cd47908-5507-4d98-a21e-3f4729d22cb5"
      },
      "execution_count": 29,
      "outputs": [
        {
          "output_type": "stream",
          "name": "stdout",
          "text": [
            "Enter the number5\n",
            "0 0 x 0 0 \n",
            "0 0 x 0 0 \n",
            "x x x x x \n",
            "0 0 x 0 0 \n",
            "0 0 x 0 0 \n"
          ]
        }
      ]
    },
    {
      "cell_type": "code",
      "source": [
        "n=int(input('Enter the number'))\n",
        "for i in range(1,n+1,1):\n",
        "  for j in range(1,n+1,1):\n",
        "    if i==j:\n",
        "      print('*',end=' ')\n",
        "    else:\n",
        "      print(' ',end=' ')\n",
        "  print()\n"
      ],
      "metadata": {
        "colab": {
          "base_uri": "https://localhost:8080/"
        },
        "id": "sDtIlnDDvzYY",
        "outputId": "c1123114-922f-468c-abbe-624570a92d1b"
      },
      "execution_count": 31,
      "outputs": [
        {
          "output_type": "stream",
          "name": "stdout",
          "text": [
            "Enter the number5\n",
            "*         \n",
            "  *       \n",
            "    *     \n",
            "      *   \n",
            "        * \n"
          ]
        }
      ]
    },
    {
      "cell_type": "code",
      "source": [
        "n=int(input('Enter the number'))\n",
        "for i in range(1,n+1,1):\n",
        "  for j in range(1,n+1,1):\n",
        "    if i==j:\n",
        "      print('x',end=' ')\n",
        "    else:\n",
        "      print('0',end=' ')\n",
        "  print()\n"
      ],
      "metadata": {
        "colab": {
          "base_uri": "https://localhost:8080/"
        },
        "id": "50Gt1hlXvzbj",
        "outputId": "1cfaa0f4-a84c-4ef4-c1ce-47c4138df89e"
      },
      "execution_count": 32,
      "outputs": [
        {
          "output_type": "stream",
          "name": "stdout",
          "text": [
            "Enter the number5\n",
            "x 0 0 0 0 \n",
            "0 x 0 0 0 \n",
            "0 0 x 0 0 \n",
            "0 0 0 x 0 \n",
            "0 0 0 0 x \n"
          ]
        }
      ]
    },
    {
      "cell_type": "code",
      "source": [
        "n=int(input('Enter the number'))\n",
        "for i in range(1,n+1,1):\n",
        "  for j in range(1,n+1,1):\n",
        "    if i==j:\n",
        "      print('0',end=' ')\n",
        "    else:\n",
        "      print('x',end=' ')\n",
        "  print()"
      ],
      "metadata": {
        "colab": {
          "base_uri": "https://localhost:8080/"
        },
        "id": "H9j1gSqQvzfN",
        "outputId": "5098f97c-d32e-46ea-8747-344c2da3928d"
      },
      "execution_count": 33,
      "outputs": [
        {
          "output_type": "stream",
          "name": "stdout",
          "text": [
            "Enter the number5\n",
            "0 x x x x \n",
            "x 0 x x x \n",
            "x x 0 x x \n",
            "x x x 0 x \n",
            "x x x x 0 \n"
          ]
        }
      ]
    },
    {
      "cell_type": "code",
      "source": [
        "n=int(input('Enter the number'))\n",
        "for i in range(1,n+1,1):\n",
        "  for j in range(1,n+1,1):\n",
        "    if i==j:\n",
        "      print('x',end=' ')\n",
        "    else:\n",
        "      print('-',end=' ')\n",
        "  print()"
      ],
      "metadata": {
        "colab": {
          "base_uri": "https://localhost:8080/"
        },
        "id": "Ac4qd34TpRik",
        "outputId": "4c91871b-5fbc-418f-c0e9-51bb9b47089c"
      },
      "execution_count": 34,
      "outputs": [
        {
          "output_type": "stream",
          "name": "stdout",
          "text": [
            "Enter the number5\n",
            "x - - - - \n",
            "- x - - - \n",
            "- - x - - \n",
            "- - - x - \n",
            "- - - - x \n"
          ]
        }
      ]
    },
    {
      "cell_type": "code",
      "source": [
        "n=int(input('Enter the number'))\n",
        "for i in range(1,n+1,1):\n",
        "  for j in range(1,n+1,1):\n",
        "    if i==j or i+j==6:\n",
        "      print('x',end=' ')\n",
        "    else:\n",
        "      print(' ',end=' ')\n",
        "  print()"
      ],
      "metadata": {
        "colab": {
          "base_uri": "https://localhost:8080/"
        },
        "id": "p-oOVIIBpRmD",
        "outputId": "1548b9ee-1c63-4cae-b215-29b1be784108"
      },
      "execution_count": 39,
      "outputs": [
        {
          "output_type": "stream",
          "name": "stdout",
          "text": [
            "Enter the number5\n",
            "x       x \n",
            "  x   x   \n",
            "    x     \n",
            "  x   x   \n",
            "x       x \n"
          ]
        }
      ]
    },
    {
      "cell_type": "code",
      "source": [
        "n=int(input('Enter the number'))\n",
        "for i in range(1,n+1,1):\n",
        "  for j in range(1,n+1,1):\n",
        "    if i==j or i+j==6:\n",
        "      print('x',end=' ')\n",
        "    else:\n",
        "      print('0',end=' ')\n",
        "  print()"
      ],
      "metadata": {
        "colab": {
          "base_uri": "https://localhost:8080/"
        },
        "id": "WgyMdAy2pRru",
        "outputId": "0f960efb-b515-4fa9-b4e1-23a8d88ea7d9"
      },
      "execution_count": 40,
      "outputs": [
        {
          "output_type": "stream",
          "name": "stdout",
          "text": [
            "Enter the number5\n",
            "x 0 0 0 x \n",
            "0 x 0 x 0 \n",
            "0 0 x 0 0 \n",
            "0 x 0 x 0 \n",
            "x 0 0 0 x \n"
          ]
        }
      ]
    },
    {
      "cell_type": "code",
      "source": [
        "n=int(input('Enter the number'))\n",
        "for i in range(1,n+1,1):\n",
        "  for j in range(1,n+1,1):\n",
        "    if i==j or i+j==6:\n",
        "      print('0',end=' ')\n",
        "    else:\n",
        "      print('x',end=' ')\n",
        "  print()"
      ],
      "metadata": {
        "colab": {
          "base_uri": "https://localhost:8080/"
        },
        "id": "C3RpjYFuS-L1",
        "outputId": "dc7acf40-7266-4dfd-d640-fcf327be643c"
      },
      "execution_count": 41,
      "outputs": [
        {
          "output_type": "stream",
          "name": "stdout",
          "text": [
            "Enter the number5\n",
            "0 x x x 0 \n",
            "x 0 x 0 x \n",
            "x x 0 x x \n",
            "x 0 x 0 x \n",
            "0 x x x 0 \n"
          ]
        }
      ]
    },
    {
      "cell_type": "code",
      "source": [
        "n=int(input('Enter the number'))\n",
        "for i in range(1,n+1,1):\n",
        "  for j in range(1,n+1,1):\n",
        "    if i==j or j==n-i+1:\n",
        "      print('x',end=' ')\n",
        "    else:\n",
        "      print(' ',end=' ')\n",
        "  print()"
      ],
      "metadata": {
        "colab": {
          "base_uri": "https://localhost:8080/"
        },
        "id": "E-zIRh8LyacX",
        "outputId": "838a3a4c-871b-4cf3-ef52-623702ca94a3"
      },
      "execution_count": 42,
      "outputs": [
        {
          "output_type": "stream",
          "name": "stdout",
          "text": [
            "Enter the number5\n",
            "x       x \n",
            "  x   x   \n",
            "    x     \n",
            "  x   x   \n",
            "x       x \n"
          ]
        }
      ]
    },
    {
      "cell_type": "code",
      "source": [
        "n=int(input('Enter the number'))\n",
        "for i in range(1,n+1,1):\n",
        "  for j in range(1,n+1,1):\n",
        "    if i==1 or i==5 or j==1 or j==5:\n",
        "      print('x',end=' ')\n",
        "    else:\n",
        "      print(' ',end=' ')\n",
        "  print()"
      ],
      "metadata": {
        "colab": {
          "base_uri": "https://localhost:8080/"
        },
        "id": "Ykv6MWe5ybSx",
        "outputId": "6d416742-89af-4781-d542-58743bc82b24"
      },
      "execution_count": 47,
      "outputs": [
        {
          "output_type": "stream",
          "name": "stdout",
          "text": [
            "Enter the number5\n",
            "x x x x x \n",
            "x       x \n",
            "x       x \n",
            "x       x \n",
            "x x x x x \n"
          ]
        }
      ]
    },
    {
      "cell_type": "code",
      "source": [
        "n=int(input('Enter the number'))\n",
        "for i in range(1,n+1,1):\n",
        "  for j in range(1,n+1,1):\n",
        "    if i==1 or i==5 or j==1 or j==5:\n",
        "      print('x',end=' ')\n",
        "    else:\n",
        "      print('0',end=' ')\n",
        "  print()"
      ],
      "metadata": {
        "colab": {
          "base_uri": "https://localhost:8080/"
        },
        "id": "U_46d4LcybV9",
        "outputId": "8edc4a72-f53e-46dc-a16a-8cd71e281a13"
      },
      "execution_count": 48,
      "outputs": [
        {
          "output_type": "stream",
          "name": "stdout",
          "text": [
            "Enter the number5\n",
            "x x x x x \n",
            "x 0 0 0 x \n",
            "x 0 0 0 x \n",
            "x 0 0 0 x \n",
            "x x x x x \n"
          ]
        }
      ]
    },
    {
      "cell_type": "code",
      "source": [
        "n=int(input('Enter the number'))\n",
        "for i in range(1,n+1,1):\n",
        "  for j in range(1,n+1,1):\n",
        "    if i==1 or i==5 or j==1 or j==5:\n",
        "      print('0',end=' ')\n",
        "    else:\n",
        "      print('x',end=' ')\n",
        "  print()"
      ],
      "metadata": {
        "colab": {
          "base_uri": "https://localhost:8080/"
        },
        "id": "b_LwlUV-ybZl",
        "outputId": "1b60825d-2d64-4a9a-d410-d9087a880dbd"
      },
      "execution_count": 49,
      "outputs": [
        {
          "output_type": "stream",
          "name": "stdout",
          "text": [
            "Enter the number5\n",
            "0 0 0 0 0 \n",
            "0 x x x 0 \n",
            "0 x x x 0 \n",
            "0 x x x 0 \n",
            "0 0 0 0 0 \n"
          ]
        }
      ]
    },
    {
      "cell_type": "code",
      "source": [
        "n=int(input('Enter the number'))\n",
        "for i in range(1,n+1,1):\n",
        "  for j in range(1,n+1,1):\n",
        "    if i==1 or i==5 or j==1 or j==5:\n",
        "      print('x',end=' ')\n",
        "    else:\n",
        "      print('-',end=' ')\n",
        "  print()"
      ],
      "metadata": {
        "colab": {
          "base_uri": "https://localhost:8080/"
        },
        "id": "A3UcypXHybb8",
        "outputId": "98f800c2-6075-489c-90d2-e5ab1222dac8"
      },
      "execution_count": 50,
      "outputs": [
        {
          "output_type": "stream",
          "name": "stdout",
          "text": [
            "Enter the number5\n",
            "x x x x x \n",
            "x - - - x \n",
            "x - - - x \n",
            "x - - - x \n",
            "x x x x x \n"
          ]
        }
      ]
    },
    {
      "cell_type": "code",
      "source": [
        "n=int(input('Enter the number'))\n",
        "for i in range(1,n+1,1):\n",
        "  for j in range(1,n+1,1):\n",
        "    if i==1 or i==5 or j==1 or j==5:\n",
        "      print('-',end=' ')\n",
        "    else:\n",
        "      print('x',end=' ')\n",
        "  print()"
      ],
      "metadata": {
        "colab": {
          "base_uri": "https://localhost:8080/"
        },
        "id": "Kz58xKqOybfX",
        "outputId": "0ce24751-e3b9-4f0a-f267-9bfad7cbb0d9"
      },
      "execution_count": 51,
      "outputs": [
        {
          "output_type": "stream",
          "name": "stdout",
          "text": [
            "Enter the number5\n",
            "- - - - - \n",
            "- x x x - \n",
            "- x x x - \n",
            "- x x x - \n",
            "- - - - - \n"
          ]
        }
      ]
    },
    {
      "cell_type": "code",
      "source": [
        "n=int(input('Enter the number'))\n",
        "for i in range(1,n+1,1):\n",
        "  for j in range(0,n-i):\n",
        "    print('',end=' ')\n",
        "  for k in range(i):\n",
        "    print('*',end=' ')\n",
        "  print()"
      ],
      "metadata": {
        "colab": {
          "base_uri": "https://localhost:8080/"
        },
        "id": "dynz-BnuybmG",
        "outputId": "27f6197f-0cdc-4421-9eb1-98eda90c53b9"
      },
      "execution_count": 69,
      "outputs": [
        {
          "output_type": "stream",
          "name": "stdout",
          "text": [
            "Enter the number4\n",
            "   * \n",
            "  * * \n",
            " * * * \n",
            "* * * * \n"
          ]
        }
      ]
    },
    {
      "cell_type": "code",
      "source": [
        "n=int(input('Enter the number'))\n",
        "for i in range(1,n+1,1):\n",
        "  for j in range(0,n-i):\n",
        "    print('',end=' ')\n",
        "  for k in range(i):\n",
        "    print(i,end=' ')\n",
        "  print()"
      ],
      "metadata": {
        "colab": {
          "base_uri": "https://localhost:8080/"
        },
        "id": "goxj7TyMCKBI",
        "outputId": "aed1982a-1457-4c9c-ce55-224debbb5601"
      },
      "execution_count": 70,
      "outputs": [
        {
          "output_type": "stream",
          "name": "stdout",
          "text": [
            "Enter the number4\n",
            "   1 \n",
            "  2 2 \n",
            " 3 3 3 \n",
            "4 4 4 4 \n"
          ]
        }
      ]
    },
    {
      "cell_type": "code",
      "source": [
        "n=int(input('Enter the number'))\n",
        "for i in range(1,n+1,1):\n",
        "  for j in range(0,n-i):\n",
        "    print('',end=' ')\n",
        "  for k in range(i):\n",
        "    print(j,end=' ')\n",
        "  print()"
      ],
      "metadata": {
        "colab": {
          "base_uri": "https://localhost:8080/"
        },
        "id": "ElHV1eN5ybtm",
        "outputId": "7b207a4c-1981-4c86-85d7-ee581ffc2a23"
      },
      "execution_count": 71,
      "outputs": [
        {
          "output_type": "stream",
          "name": "stdout",
          "text": [
            "Enter the number4\n",
            "   2 \n",
            "  1 1 \n",
            " 0 0 0 \n",
            "0 0 0 0 \n"
          ]
        }
      ]
    },
    {
      "cell_type": "code",
      "source": [
        "n=int(input('Enter the number'))\n",
        "for i in range(1,n+1,1):\n",
        "  for j in range(0,n-i):\n",
        "    print('',end=' ')\n",
        "  for k in range(i):\n",
        "    print(k,end=' ')\n",
        "  print()"
      ],
      "metadata": {
        "colab": {
          "base_uri": "https://localhost:8080/"
        },
        "id": "46GCw8KByb0I",
        "outputId": "07cebbd9-1e89-4463-8a4e-07ce5083a8b5"
      },
      "execution_count": 72,
      "outputs": [
        {
          "output_type": "stream",
          "name": "stdout",
          "text": [
            "Enter the number4\n",
            "   0 \n",
            "  0 1 \n",
            " 0 1 2 \n",
            "0 1 2 3 \n"
          ]
        }
      ]
    },
    {
      "cell_type": "code",
      "source": [
        "n=int(input('Enter the number'))\n",
        "for i in range(1,n+1,1):\n",
        "  for j in range(0,n-i):\n",
        "    print('',end=' ')\n",
        "  for k in range(i):\n",
        "    print(i+j,end=' ')\n",
        "  print()"
      ],
      "metadata": {
        "colab": {
          "base_uri": "https://localhost:8080/"
        },
        "id": "Z2QtUjhryb9R",
        "outputId": "96b9471e-0296-40ec-e740-51b7ce3a7c8a"
      },
      "execution_count": 74,
      "outputs": [
        {
          "output_type": "stream",
          "name": "stdout",
          "text": [
            "Enter the number4\n",
            "   3 \n",
            "  3 3 \n",
            " 3 3 3 \n",
            "4 4 4 4 \n"
          ]
        }
      ]
    },
    {
      "cell_type": "code",
      "source": [],
      "metadata": {
        "id": "jOmL85UAycB_"
      },
      "execution_count": null,
      "outputs": []
    },
    {
      "cell_type": "code",
      "source": [],
      "metadata": {
        "id": "gR_oAdROycFs"
      },
      "execution_count": null,
      "outputs": []
    }
  ]
}