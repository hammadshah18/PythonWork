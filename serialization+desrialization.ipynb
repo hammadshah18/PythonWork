{
  "nbformat": 4,
  "nbformat_minor": 0,
  "metadata": {
    "colab": {
      "provenance": [],
      "authorship_tag": "ABX9TyPkof+vYqr4Xp81VzFahcPt",
      "include_colab_link": true
    },
    "kernelspec": {
      "name": "python3",
      "display_name": "Python 3"
    },
    "language_info": {
      "name": "python"
    }
  },
  "cells": [
    {
      "cell_type": "markdown",
      "metadata": {
        "id": "view-in-github",
        "colab_type": "text"
      },
      "source": [
        "<a href=\"https://colab.research.google.com/github/hammadshah18/PythonWork/blob/main/serialization%2Bdesrialization.ipynb\" target=\"_parent\"><img src=\"https://colab.research.google.com/assets/colab-badge.svg\" alt=\"Open In Colab\"/></a>"
      ]
    },
    {
      "cell_type": "markdown",
      "source": [
        "**Working with json file json(javascript on notation) **\n",
        "**we can work with other data type with the help json**"
      ],
      "metadata": {
        "id": "vjsqlvXC4a5W"
      }
    },
    {
      "cell_type": "code",
      "execution_count": 1,
      "metadata": {
        "id": "2YLt6ov01fQQ"
      },
      "outputs": [],
      "source": [
        "from ast import dump\n",
        "import json\n",
        "l=[1,2,3,4]\n",
        "with open('test.json','w') as f:\n",
        "  json.dump(l,f)"
      ]
    },
    {
      "cell_type": "code",
      "source": [
        "import json\n",
        "d={'hammad':'shah',1:'with', 'cricket':4} # corrected the dict\n",
        "with open('test.json','w') as f:\n",
        "  json.dump(d,f,indent=4)"
      ],
      "metadata": {
        "id": "Z5_TFGJe1mik"
      },
      "execution_count": 4,
      "outputs": []
    },
    {
      "cell_type": "code",
      "source": [
        "import json\n",
        "with open('test.json','r') as f:\n",
        "   a= json.load(f)\n",
        "   print(a)"
      ],
      "metadata": {
        "colab": {
          "base_uri": "https://localhost:8080/"
        },
        "id": "yrMHjatZ1mlv",
        "outputId": "755c4c04-8d32-446c-8e16-ca0138083f40"
      },
      "execution_count": 6,
      "outputs": [
        {
          "output_type": "stream",
          "name": "stdout",
          "text": [
            "{'hammad': 'shah', '1': 'with', 'cricket': 4}\n"
          ]
        }
      ]
    },
    {
      "cell_type": "markdown",
      "source": [
        "**how to handle json with self create object**"
      ],
      "metadata": {
        "id": "6OfWWLoS-Irz"
      }
    },
    {
      "cell_type": "code",
      "source": [
        "class test:\n",
        "  def __init__(self,fname,lname,age,gender):\n",
        "    self.fname=fname\n",
        "    self.lname=lname\n",
        "    self.age=age\n",
        "    self.gender=gender\n",
        "    # hammad shah age--->20 gender-->male\n",
        "\n",
        "person=test('hammad','shah',20,'male')"
      ],
      "metadata": {
        "id": "JbnnA-ij1mo2"
      },
      "execution_count": null,
      "outputs": []
    },
    {
      "cell_type": "code",
      "source": [
        "import json\n",
        "def show_object(person):\n",
        "  if  isinstance(person,test):\n",
        "    return '{} {} age --> {} gender -->{}'.format(person.fname,person.lname,person.age,person.gender)\n",
        "with open('test.json','w') as f:\n",
        "  json.dump(person,f,default=show_object)"
      ],
      "metadata": {
        "id": "rCaXGpTz1mr9"
      },
      "execution_count": 16,
      "outputs": []
    },
    {
      "cell_type": "code",
      "source": [
        "class test:\n",
        "  def __init__(self,name,age):\n",
        "    self.name=name\n",
        "    self.age=age\n",
        "  def display_info(self):\n",
        "    print('Name',self.name,'Age ',self.age)\n",
        "t1=test('hammad',19)"
      ],
      "metadata": {
        "id": "dxRb6LLP1mup"
      },
      "execution_count": 24,
      "outputs": []
    },
    {
      "cell_type": "markdown",
      "source": [
        "**Pickle is that convert txt file into binary file**"
      ],
      "metadata": {
        "id": "bYe4ipBFDu4a"
      }
    },
    {
      "cell_type": "code",
      "source": [
        "import pickle\n",
        "with open('test.pkl','wb') as f:\n",
        "  pickle.dump(t1,f)"
      ],
      "metadata": {
        "id": "O0Ci7EdO1mxf"
      },
      "execution_count": 25,
      "outputs": []
    },
    {
      "cell_type": "code",
      "source": [
        "import pickle\n",
        "with open('test.pkl','rb') as f:\n",
        "   p=pickle.load(f)\n",
        "   t1.display_info()"
      ],
      "metadata": {
        "colab": {
          "base_uri": "https://localhost:8080/"
        },
        "id": "ZClOWLdN1m20",
        "outputId": "7ef6b298-f99d-46a5-8267-d91e7f5dcd0e"
      },
      "execution_count": 26,
      "outputs": [
        {
          "output_type": "stream",
          "name": "stdout",
          "text": [
            "Name hammad Age  19\n"
          ]
        }
      ]
    },
    {
      "cell_type": "code",
      "source": [],
      "metadata": {
        "id": "PuBGRIdv8o3V"
      },
      "execution_count": null,
      "outputs": []
    },
    {
      "cell_type": "code",
      "source": [],
      "metadata": {
        "id": "M3t0GU_f8o7Z"
      },
      "execution_count": null,
      "outputs": []
    },
    {
      "cell_type": "code",
      "source": [],
      "metadata": {
        "id": "gxsJmS5R8o-V"
      },
      "execution_count": null,
      "outputs": []
    },
    {
      "cell_type": "code",
      "source": [],
      "metadata": {
        "id": "Jz8vbs4g8pA9"
      },
      "execution_count": null,
      "outputs": []
    }
  ]
}